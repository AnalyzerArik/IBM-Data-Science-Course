# Display the output
print("SpaceX Data Collection API")
